{
 "cells": [
  {
   "cell_type": "code",
   "execution_count": 11,
   "metadata": {},
   "outputs": [],
   "source": [
    "import math\n",
    "import random\n",
    "import pandas as pd\n",
    "import numpy as np\n",
    "from sklearn.model_selection import train_test_split\n",
    "from sklearn.naive_bayes import GaussianNB\n",
    "from sklearn.metrics import accuracy_score\n",
    "from sklearn.metrics import classification_report"
   ]
  },
  {
   "cell_type": "code",
   "execution_count": 12,
   "metadata": {},
   "outputs": [],
   "source": [
    "df = pd.read_csv(\"../wavData.csv\")\n",
    "#drop columns unimportant to modeling\n",
    "df.drop(['filename', 'frameID'], axis=1, inplace=True)\n",
    "df['intelligence'] = df['intelligence'].map({\"Human\": 0, \"AI\": 1})\n",
    "df.drop(['intelligence'], axis=1, inplace=False)\n",
    "x = df.drop(['intelligence'],axis=1)\n",
    "y =df['intelligence']\n",
    "\n",
    "# Split data into training (80%) and testing (20%)\n",
    "x_train, x_test, y_train, y_test = train_test_split(x, y, test_size=0.2, random_state=42)"
   ]
  },
  {
   "cell_type": "code",
   "execution_count": 13,
   "metadata": {},
   "outputs": [
    {
     "name": "stdout",
     "output_type": "stream",
     "text": [
      "\n",
      "Class: Human\n",
      "mean: [0.2370793  0.23073853 0.21605844 0.5047243  0.62645614 0.42129018\n",
      " 0.44740757 0.45127192 0.52124366 0.52131606 0.58609205 0.53850422\n",
      " 0.49066302 0.50528594 0.50139969 0.53470859 0.53705906 0.49819116\n",
      " 0.46824664 0.5040018  0.50481768 0.51323753 0.50696067 0.25019571\n",
      " 0.34411212 0.33604877]\n",
      "Standard Deviation: [0.22094679 0.2158706  0.20964128 0.26058381 0.20664371 0.22352731\n",
      " 0.20588904 0.21046599 0.20322038 0.17992723 0.18414428 0.19206206\n",
      " 0.19837212 0.20039803 0.1748998  0.17104126 0.1816489  0.1844708\n",
      " 0.1741562  0.18163768 0.16920769 0.18090123 0.18468379 0.22769042\n",
      " 0.21986497 0.26384173]\n",
      "\n",
      "Class: AI\n",
      "mean: [0.2616446  0.24897991 0.19377676 0.56055292 0.62967806 0.44180382\n",
      " 0.46412378 0.50727383 0.51338252 0.54429527 0.56805853 0.55489417\n",
      " 0.5092325  0.52659668 0.51057495 0.53386397 0.46128956 0.49648369\n",
      " 0.46886747 0.50670921 0.50410957 0.50711264 0.48871399 0.24975321\n",
      " 0.37623546 0.35482413]\n",
      "Standard Deviation: [0.23762553 0.23167919 0.21158487 0.26458677 0.21301983 0.21495178\n",
      " 0.19201668 0.20086112 0.19213762 0.21642801 0.18822016 0.18660769\n",
      " 0.18983901 0.20183919 0.18472921 0.19202057 0.18468129 0.17970595\n",
      " 0.17924979 0.18745173 0.18285846 0.19835695 0.19221697 0.22641436\n",
      " 0.21446016 0.26706381]\n"
     ]
    }
   ],
   "source": [
    "#create model\n",
    "model = GaussianNB()\n",
    "model.fit(x_train, y_train)\n",
    "\n",
    "#get predictions\n",
    "ypred = model.predict(x_test)\n",
    "\n",
    "#print out the class statistics \n",
    "for i, class_l in enumerate([\"Human\",\"AI\"]):\n",
    "    print(f\"\\nClass: {class_l}\")\n",
    "    print(f\"mean: {model.theta_[i]}\")\n",
    "    print(f\"Standard Deviation: {np.sqrt(model.var_[i])}\")"
   ]
  },
  {
   "cell_type": "code",
   "execution_count": 14,
   "metadata": {},
   "outputs": [
    {
     "name": "stdout",
     "output_type": "stream",
     "text": [
      "\n",
      "Accuracy: 0.63\n"
     ]
    }
   ],
   "source": [
    "\n",
    "#get the accuracy stats \n",
    "stats = accuracy_score(y_test, y_pred=ypred)\n",
    "print(f\"\\nAccuracy: {stats:.2f}\")"
   ]
  },
  {
   "cell_type": "code",
   "execution_count": 15,
   "metadata": {},
   "outputs": [
    {
     "name": "stdout",
     "output_type": "stream",
     "text": [
      "\n",
      "Report               precision    recall  f1-score   support\n",
      "\n",
      "       Human       0.60      0.59      0.60       512\n",
      "          AI       0.66      0.66      0.66       609\n",
      "\n",
      "    accuracy                           0.63      1121\n",
      "   macro avg       0.63      0.63      0.63      1121\n",
      "weighted avg       0.63      0.63      0.63      1121\n",
      "\n"
     ]
    }
   ],
   "source": [
    "#print out the classification report\n",
    "print(\"\\nReport\",classification_report(y_test, ypred, target_names=[\"Human\", \"AI\"]))"
   ]
  }
 ],
 "metadata": {
  "kernelspec": {
   "display_name": ".venv",
   "language": "python",
   "name": "python3"
  },
  "language_info": {
   "codemirror_mode": {
    "name": "ipython",
    "version": 3
   },
   "file_extension": ".py",
   "mimetype": "text/x-python",
   "name": "python",
   "nbconvert_exporter": "python",
   "pygments_lexer": "ipython3",
   "version": "3.11.2"
  }
 },
 "nbformat": 4,
 "nbformat_minor": 2
}
