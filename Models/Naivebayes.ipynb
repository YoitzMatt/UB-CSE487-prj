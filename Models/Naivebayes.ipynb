{
 "cells": [
  {
   "cell_type": "code",
   "execution_count": 12,
   "metadata": {},
   "outputs": [],
   "source": [
    "import math\n",
    "import random\n",
    "import pandas as pd\n",
    "import numpy as np\n",
    "#import matplotlib.pyplot as plt"
   ]
  },
  {
   "cell_type": "code",
   "execution_count": null,
   "metadata": {},
   "outputs": [],
   "source": [
    "df = pd.read_csv(\"../wavData.csv\")\n",
    "#drop columns unimportant to modeling\n",
    "df.drop(['filename', 'frameID'], axis=1, inplace=True)\n",
    "df['intelligence'] = df['intelligence'].map({\"Human\": 0, \"AI\": 1})\n",
    "df.drop(['intelligence'], axis=1, inplace=False)\n",
    "data = df.values.tolist()"
   ]
  },
  {
   "cell_type": "code",
   "execution_count": 14,
   "metadata": {},
   "outputs": [],
   "source": [
    "#g\n",
    "\n",
    "#split up training and test data \n",
    "#8planned 80/20 split\n",
    "def splitting(data, ratio):\n",
    "    train_num = int(len(data) * ratio)\n",
    "    training = []\n",
    "    testing = list(data)\n",
    "    while len(training) < train_num:\n",
    "        index = random.randrange(len(testing))\n",
    "        training.append(testing.pop(index))\n",
    "    return training, testing\n",
    "\n",
    "#Groups the data by class, key = class value = list of data for that class \n",
    "def groupByClass(data):\n",
    "    ddict = {}\n",
    "    for i in range(len(data)):\n",
    "        if data[i][-1] not in ddict:\n",
    "            ddict[data[i][-1]] = []\n",
    "        ddict[data[i][-1]]\n",
    "    return ddict\n"
   ]
  },
  {
   "cell_type": "code",
   "execution_count": 15,
   "metadata": {},
   "outputs": [],
   "source": [
    "#calculate mean \n",
    "def Mean(num):\n",
    "    m = np.mean(num)\n",
    "    return m\n",
    "\n",
    "#calculate standard deviation\n",
    "def stdDev(num):\n",
    "    stdev = np.std(num)\n",
    "    return stdev\n",
    "\n",
    "#calculate mean and standard deviation for a given class \n",
    "def classMeanAndStdDev(data):\n",
    "    info = {}\n",
    "    ddict = groupByClass(data)\n",
    "    for cv, istnce in ddict.items():\n",
    "        info[cv] = [classMeanAndStdDev(attribute) for attribute in zip(*istnce)]\n",
    "    return info"
   ]
  },
  {
   "cell_type": "code",
   "execution_count": 16,
   "metadata": {},
   "outputs": [],
   "source": [
    "#Calulate the Gaussian Probability  and Gaussian Probility for a classes\n",
    "def GProbability(x, mean, stdev):\n",
    "    expo = math.exp(-(math.pow(x - mean, 2) / (2 * math.pow(stdev + 1e-10, 2))))\n",
    "    retval = (1 / (math.sqrt(2 * math.pi) * (stdev + 1e-10))) * expo\n",
    "    return retval\n",
    "\n",
    "#claculates the probabilty given a class \n",
    "def ClassGProbability(infoDict, testData):\n",
    "    pb = {} # dictonary to store the probabilites \n",
    "    for cv, cs in infoDict.items():\n",
    "        pb[cv] = 1\n",
    "        for i in range(len(cs)):\n",
    "            mean, std_dev = cs[i]\n",
    "            x = testData[i]\n",
    "            pb[cv] *= GProbability(x, mean, std_dev)\n",
    "    return pb"
   ]
  }
 ],
 "metadata": {
  "kernelspec": {
   "display_name": ".venv",
   "language": "python",
   "name": "python3"
  },
  "language_info": {
   "codemirror_mode": {
    "name": "ipython",
    "version": 3
   },
   "file_extension": ".py",
   "mimetype": "text/x-python",
   "name": "python",
   "nbconvert_exporter": "python",
   "pygments_lexer": "ipython3",
   "version": "3.11.2"
  }
 },
 "nbformat": 4,
 "nbformat_minor": 2
}
