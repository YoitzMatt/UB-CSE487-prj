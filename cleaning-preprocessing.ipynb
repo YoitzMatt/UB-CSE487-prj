{
 "cells": [
  {
   "cell_type": "code",
   "execution_count": 15,
   "metadata": {},
   "outputs": [],
   "source": [
    "import librosa\n",
    "import librosa.display\n",
    "import pandas as pd\n",
    "import matplotlib.pyplot as plt\n",
    "import numpy as np\n",
    "import IPython.display as ipd\n",
    "import soundfile as sf\n",
    "from scipy.signal import medfilt\n",
    "import math"
   ]
  },
  {
   "cell_type": "code",
   "execution_count": 8,
   "metadata": {},
   "outputs": [],
   "source": [
    "#CLEANING/PREPROCESSING STEP 1: take audio from x minutes to 10 seconds\n",
    "\n",
    "# This step was done outside of the notebook to free space in\n",
    "# the GitHub repository. To see the operation, view the utility.py\n",
    "# file."
   ]
  },
  {
   "cell_type": "code",
   "execution_count": 23,
   "metadata": {},
   "outputs": [],
   "source": [
    "#CLEANING/PREPROCESSING STEP 2: remove ambient noise (i.e. crowd cheer, clapping, wind)\n",
    "# There is a caveat to this step in that the magnitude of the ambience cannot be equal\n",
    "# to or greater than the speaker. For this reason, only some files can be cleaned\n",
    "# in this manner.\n",
    "\n",
    "def removeAmbience(inputWav):\n",
    "    audioArray, sampleRate = librosa.load(inputWav)\n",
    "    # visualize wave\n",
    "    plt.figure(figsize=(8, 4))\n",
    "    librosa.display.waveshow(audioArray, alpha=0.5)\n",
    "    plt.title(\"Audio Signal\")\n",
    "    plt.ylabel(\"Amplitude\")\n",
    "    plt.ylim((-1, 1))\n",
    "\n",
    "    # filter out the most minimal signals\n",
    "    magSpec, phase = librosa.magphase(librosa.stft(audioArray)) # D = S*P\n",
    "    specFilter = librosa.decompose.nn_filter(magSpec, aggregate=np.median,\n",
    "                    metric='cosine', width=int(librosa.time_to_frames(2, sr=sampleRate)))\n",
    "    specFilter = np.minimum(magSpec, specFilter)\n",
    "\n",
    "    # apply masks over spectrogram magnitude\n",
    "    ambientMargin = 2\n",
    "    ambientMask = librosa.util.softmask(specFilter,\n",
    "                        (ambientMargin*(magSpec-specFilter)), power=2)\n",
    "    foregroundMargin = 10\n",
    "    foregroundMask = librosa.util.softmask((magSpec-specFilter),\n",
    "                        (foregroundMargin*specFilter), power=2)\n",
    "    ambientSpec = ambientMask*magSpec\n",
    "    foregroundSpec = foregroundMask*magSpec\n",
    "\n",
    "    plt.figure(figsize=(12, 8))\n",
    "    plt.subplot(3, 1, 1)\n",
    "    librosa.display.specshow(librosa.amplitude_to_db(magSpec, ref=np.max),\n",
    "                            y_axis='log', sr=sampleRate)\n",
    "    plt.title('Full spectrum')\n",
    "    clb = plt.colorbar(format=\"%+2.f\")\n",
    "    clb.ax.set_xlabel(\"dBFS\")\n",
    "\n",
    "    plt.subplot(3, 1, 2)\n",
    "    librosa.display.specshow(librosa.amplitude_to_db(ambientSpec, ref=np.max),\n",
    "                            y_axis='log', sr=sampleRate)\n",
    "    plt.title('Background')\n",
    "    clb = plt.colorbar(format=\"%+2.f\")\n",
    "    clb.ax.set_xlabel(\"dBFS\")\n",
    "    plt.subplot(3, 1, 3)\n",
    "    librosa.display.specshow(librosa.amplitude_to_db(foregroundSpec, ref=np.max),\n",
    "                            y_axis='log', x_axis='time', sr=sampleRate)\n",
    "    plt.title('Foreground')\n",
    "    clb = plt.colorbar(format=\"%+2.f\")\n",
    "    clb.ax.set_xlabel(\"dBFS\")\n",
    "    plt.tight_layout()\n",
    "    plt.show()\n",
    "\n",
    "    # reconstruct foreground signal\n",
    "    complexSpec = foregroundSpec*phase\n",
    "    reconstructSignal = librosa.istft(complexSpec)\n",
    "    return reconstructSignal"
   ]
  },
  {
   "cell_type": "code",
   "execution_count": null,
   "metadata": {},
   "outputs": [],
   "source": [
    "#This will be final function\n",
    "def wavToDataFrame(inputWav, outputDF):\n",
    "    audioArray, sampleRate = librosa.load(inputWav)"
   ]
  }
 ],
 "metadata": {
  "kernelspec": {
   "display_name": ".venv",
   "language": "python",
   "name": "python3"
  },
  "language_info": {
   "codemirror_mode": {
    "name": "ipython",
    "version": 3
   },
   "file_extension": ".py",
   "mimetype": "text/x-python",
   "name": "python",
   "nbconvert_exporter": "python",
   "pygments_lexer": "ipython3",
   "version": "3.12.6"
  }
 },
 "nbformat": 4,
 "nbformat_minor": 2
}
