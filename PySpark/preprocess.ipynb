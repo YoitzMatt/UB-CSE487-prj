{
 "cells": [
  {
   "cell_type": "code",
   "execution_count": 3,
   "id": "6b773345",
   "metadata": {},
   "outputs": [],
   "source": [
    "import pyspark\n",
    "import librosa\n",
    "import math\n",
    "import numpy as np\n",
    "from pyspark.sql import SparkSession\n",
    "from pyspark.sql.types import StructType, StructField, IntegerType, StringType, FloatType"
   ]
  },
  {
   "cell_type": "code",
   "execution_count": 4,
   "id": "2d665948",
   "metadata": {},
   "outputs": [],
   "source": [
    "FRAME_LENGTH = 1024\n",
    "HOP_LENGTH = 512"
   ]
  },
  {
   "cell_type": "code",
   "execution_count": 5,
   "id": "3b384e8d",
   "metadata": {},
   "outputs": [
    {
     "name": "stderr",
     "output_type": "stream",
     "text": [
      "25/04/11 12:21:08 WARN Utils: Your hostname, debian resolves to a loopback address: 127.0.1.1; using 10.84.150.138 instead (on interface wlp2s0)\n",
      "25/04/11 12:21:08 WARN Utils: Set SPARK_LOCAL_IP if you need to bind to another address\n",
      "Setting default log level to \"WARN\".\n",
      "To adjust logging level use sc.setLogLevel(newLevel). For SparkR, use setLogLevel(newLevel).\n",
      "25/04/11 12:21:09 WARN NativeCodeLoader: Unable to load native-hadoop library for your platform... using builtin-java classes where applicable\n"
     ]
    },
    {
     "data": {
      "text/html": [
       "\n",
       "            <div>\n",
       "                <p><b>SparkSession - in-memory</b></p>\n",
       "                \n",
       "        <div>\n",
       "            <p><b>SparkContext</b></p>\n",
       "\n",
       "            <p><a href=\"http://10.84.150.138:4040\">Spark UI</a></p>\n",
       "\n",
       "            <dl>\n",
       "              <dt>Version</dt>\n",
       "                <dd><code>v3.5.5</code></dd>\n",
       "              <dt>Master</dt>\n",
       "                <dd><code>local[*]</code></dd>\n",
       "              <dt>AppName</dt>\n",
       "                <dd><code>preprocess</code></dd>\n",
       "            </dl>\n",
       "        </div>\n",
       "        \n",
       "            </div>\n",
       "        "
      ],
      "text/plain": [
       "<pyspark.sql.session.SparkSession at 0x7fe0fc607610>"
      ]
     },
     "execution_count": 5,
     "metadata": {},
     "output_type": "execute_result"
    }
   ],
   "source": [
    "spark = SparkSession.builder.appName('preprocess').getOrCreate()\n",
    "spark"
   ]
  },
  {
   "cell_type": "code",
   "execution_count": 6,
   "id": "dc944ffa",
   "metadata": {},
   "outputs": [],
   "source": [
    "# CLEANING/PREPROCESSING STEP 1: Take audio from x minutes to 10 seconds\n",
    "def sliceAudio(rdd, duration, sampleRate):\n",
    "  secondsPerSample = 1/sampleRate\n",
    "  samplesForDuration = duration/secondsPerSample\n",
    "  rddZip = rdd.zipWithIndex() # (signal[i], i)\n",
    "  filteredRdd = rddZip.filter(lambda x: x[1] < samplesForDuration)\n",
    "  return filteredRdd"
   ]
  },
  {
   "cell_type": "code",
   "execution_count": 7,
   "id": "f836d4d8",
   "metadata": {},
   "outputs": [],
   "source": [
    "#CLEANING/PREPROCESSING STEP 2: Retrieve amplitude envelope\n",
    "def amplitudeEnvelope(rdd, frameLength, hopLength):\n",
    "  rddSort = rdd.sortBy(lambda x: x[1])\n",
    "  signal = np.array([list(i) for i in zip(*rddSort.collect())][0])\n",
    "  envelope = []\n",
    "  for i in range(0, len(signal), hopLength):\n",
    "      frameAE = max(signal[i:i+frameLength])\n",
    "      envelope.append(frameAE)\n",
    "  return spark.sparkContext.parallelize(envelope)"
   ]
  },
  {
   "cell_type": "code",
   "execution_count": 8,
   "id": "baacff04",
   "metadata": {},
   "outputs": [],
   "source": [
    "#CLEANING/PREPROCESSING STEP 3: Retreive Root Mean Square Energy\n",
    "def rms(rdd, frameLength, hopLength):\n",
    "  rddSort = rdd.sortBy(lambda x: x[1])\n",
    "  signal = np.array([list(i) for i in zip(*rddSort.collect())][0])\n",
    "  rms = librosa.feature.rms(y=signal, frame_length=frameLength, hop_length=hopLength)[0]\n",
    "  return spark.sparkContext.parallelize(rms)"
   ]
  },
  {
   "cell_type": "code",
   "execution_count": 9,
   "id": "7d8c0cdf",
   "metadata": {},
   "outputs": [],
   "source": [
    "#CLEANING/PREPROCESSING STEP 4: Retreive Zero Crossing Rate\n",
    "def zcr(rdd, frameLength, hopLength):\n",
    "  rddSort = rdd.sortBy(lambda x: x[1])\n",
    "  signal = np.array([list(i) for i in zip(*rddSort.collect())][0])\n",
    "  zcr = librosa.feature.zero_crossing_rate(signal, frame_length=frameLength, hop_length=hopLength)[0]\n",
    "  return spark.sparkContext.parallelize(zcr)"
   ]
  },
  {
   "cell_type": "code",
   "execution_count": 10,
   "id": "7f99a4e3",
   "metadata": {},
   "outputs": [],
   "source": [
    "#CLEANING/PREPROCESSING STEP 5: Retreive Mel Frequency Cepstrum Coefficients\n",
    "def mfcc20(rdd, sampleRate):\n",
    "  rddSort = rdd.sortBy(lambda x: x[1])\n",
    "  signal = np.array([list(i) for i in zip(*rddSort.collect())][0])\n",
    "  mfcc = librosa.feature.mfcc(y=signal, n_mfcc=20, sr=sampleRate)\n",
    "  mfccRdds = []\n",
    "  for i in range(len(mfcc)):\n",
    "    mfccRdds.append(spark.sparkContext.parallelize(mfcc[i]))\n",
    "  return mfccRdds"
   ]
  },
  {
   "cell_type": "code",
   "execution_count": 11,
   "id": "bdd7103b",
   "metadata": {},
   "outputs": [],
   "source": [
    "#CLEANING/PREPROCESSING STEP 6: Retreive Spectral Centroid\n",
    "def spectralCentroid(rdd, sampleRate, frameLength, hopLength):\n",
    "  rddSort = rdd.sortBy(lambda x: x[1])\n",
    "  signal = np.array([list(i) for i in zip(*rddSort.collect())][0])\n",
    "  sc = librosa.feature.spectral_centroid(y=signal, sr=sampleRate, n_fft=frameLength, hop_length=hopLength)[0]\n",
    "  return spark.sparkContext.parallelize(sc)"
   ]
  },
  {
   "cell_type": "code",
   "execution_count": 12,
   "id": "47f2e09c",
   "metadata": {},
   "outputs": [],
   "source": [
    "#CLEANING/PREPROCESSING STEP 7: Retreive Spectral Bandwidth\n",
    "def spectralBandwidth(rdd, sampleRate, frameLength, hopLength):\n",
    "  rddSort = rdd.sortBy(lambda x: x[1])\n",
    "  signal = np.array([list(i) for i in zip(*rddSort.collect())][0])\n",
    "  sb = librosa.feature.spectral_bandwidth(y=signal, sr=sampleRate, n_fft=frameLength, hop_length=hopLength)[0]\n",
    "  return spark.sparkContext.parallelize(sb)"
   ]
  },
  {
   "cell_type": "code",
   "execution_count": 13,
   "id": "9a8287b4",
   "metadata": {},
   "outputs": [],
   "source": [
    "#CLEANING/PREPROCESSING STEP 8: Spectral Rolloff\n",
    "def spectralRolloff(rdd, sampleRate, frameLength, hopLength):\n",
    "  rddSort = rdd.sortBy(lambda x: x[1])\n",
    "  signal = np.array([list(i) for i in zip(*rddSort.collect())][0])\n",
    "  sr = librosa.feature.spectral_rolloff(y=signal, sr=sampleRate, n_fft=frameLength, hop_length=hopLength)[0]\n",
    "  return spark.sparkContext.parallelize(sr)"
   ]
  },
  {
   "cell_type": "code",
   "execution_count": 14,
   "id": "e43da5b5",
   "metadata": {},
   "outputs": [],
   "source": [
    "#CLEANING/PREPROCESSING STEP 9: Normalize RDDs\n",
    "def normalize(rdd):\n",
    "  array = np.array(rdd.collect())\n",
    "  # put return val in tuple so we can union and dataframe\n",
    "  return spark.sparkContext.parallelize((array - np.min(array))/(np.max(array)-np.min(array)))"
   ]
  },
  {
   "cell_type": "code",
   "execution_count": 15,
   "id": "413170b2",
   "metadata": {},
   "outputs": [],
   "source": [
    "def combineRdd(amplitudeRdd, rmsRdd, zcrRdd, scRdd, sbRdd, srRdd, mfccRdds):\n",
    "  amplitude = amplitudeRdd.collect()\n",
    "  rms = rmsRdd.collect()\n",
    "  zcr = zcrRdd.collect()\n",
    "  sc = scRdd.collect()\n",
    "  sb = sbRdd.collect()\n",
    "  sr = srRdd.collect()\n",
    "  mfccs = [i.collect() for i in mfccRdds]\n",
    "  rows = []\n",
    "  for i in range(len(rms)):\n",
    "    row = [amplitude[i], rms[i], zcr[i], sc[i], sb[i], sr[i]]\n",
    "    for mfcc in mfccs:\n",
    "      row.append(mfcc[i])\n",
    "    row = [float(i) for i in row]\n",
    "    rows.append(tuple(row))\n",
    "  return rows    "
   ]
  },
  {
   "cell_type": "code",
   "execution_count": 16,
   "id": "e285c6ea",
   "metadata": {},
   "outputs": [],
   "source": [
    "def wavToDataFrame(input, intelligence):\n",
    "    audioArray, sampleRate = librosa.load(input)\n",
    "    rdd = spark.sparkContext.parallelize(audioArray)\n",
    "    filteredRdd = sliceAudio(rdd, 10, sampleRate)\n",
    "    amplitudeRdd = amplitudeEnvelope(filteredRdd, FRAME_LENGTH, HOP_LENGTH)\n",
    "    rmsRdd = rms(filteredRdd, FRAME_LENGTH, HOP_LENGTH)\n",
    "    zcrRdd = zcr(filteredRdd, FRAME_LENGTH, HOP_LENGTH)\n",
    "    mfccRdds = mfcc20(filteredRdd, sampleRate)\n",
    "    scRdd = spectralCentroid(filteredRdd, sampleRate, FRAME_LENGTH, HOP_LENGTH)\n",
    "    sbRdd = spectralBandwidth(filteredRdd, sampleRate, FRAME_LENGTH, HOP_LENGTH)\n",
    "    srRdd = spectralRolloff(filteredRdd, sampleRate, FRAME_LENGTH, HOP_LENGTH)\n",
    "    amplitudeRdd = normalize(amplitudeRdd)\n",
    "    rmsRdd = normalize(rmsRdd)\n",
    "    zcrRdd = normalize(zcrRdd)\n",
    "    for i in range(len(mfccRdds)):\n",
    "      mfccRdds[i] = normalize(mfccRdds[i])\n",
    "    scRdd = normalize(scRdd)\n",
    "    sbRdd = normalize(sbRdd)\n",
    "    srRdd = normalize(srRdd)\n",
    "\n",
    "    #CLEANING/PREPROCESSING STEP 10: Combine and make to dataframe\n",
    "    rddRows = combineRdd(amplitudeRdd, rmsRdd, zcrRdd, scRdd, sbRdd, srRdd, mfccRdds)\n",
    "    schema = StructType([\n",
    "        StructField(\"amplitudeEnvelope\", FloatType()),\n",
    "        StructField(\"RMSE\", FloatType()),\n",
    "        StructField(\"ZCR\", FloatType()),\n",
    "        StructField(\"spectralCentroid\", FloatType()),\n",
    "        StructField(\"spectralBandwidth\", FloatType()),\n",
    "        StructField(\"spectralRolloff\", FloatType()),\n",
    "        StructField(\"MFCC1\", FloatType()),\n",
    "        StructField(\"MFCC2\", FloatType()),\n",
    "        StructField(\"MFCC3\", FloatType()),\n",
    "        StructField(\"MFCC4\", FloatType()),\n",
    "        StructField(\"MFCC5\", FloatType()),\n",
    "        StructField(\"MFCC6\", FloatType()),\n",
    "        StructField(\"MFCC7\", FloatType()),\n",
    "        StructField(\"MFCC8\", FloatType()),\n",
    "        StructField(\"MFCC9\", FloatType()),\n",
    "        StructField(\"MFCC10\", FloatType()),\n",
    "        StructField(\"MFCC11\", FloatType()),\n",
    "        StructField(\"MFCC12\", FloatType()),\n",
    "        StructField(\"MFCC13\", FloatType()),\n",
    "        StructField(\"MFCC14\", FloatType()),\n",
    "        StructField(\"MFCC15\", FloatType()),\n",
    "        StructField(\"MFCC16\", FloatType()),\n",
    "        StructField(\"MFCC17\", FloatType()),\n",
    "        StructField(\"MFCC18\", FloatType()),\n",
    "        StructField(\"MFCC19\", FloatType()),\n",
    "        StructField(\"MFCC20\", FloatType())\n",
    "    ])\n",
    "\n",
    "    df = spark.createDataFrame(rddRows, schema=schema)\n",
    "    df = df.withColumn(\"intelligence\", lit(intelligence))\n",
    "    return df"
   ]
  },
  {
   "cell_type": "code",
   "execution_count": 17,
   "id": "919c4765",
   "metadata": {},
   "outputs": [
    {
     "name": "stderr",
     "output_type": "stream",
     "text": [
      "/tmp/ipykernel_75113/702651438.py:2: UserWarning: PySoundFile failed. Trying audioread instead.\n",
      "  audioArray, sampleRate = librosa.load(input)\n",
      "/home/matt/Desktop/UB-Spring-2025/CSE487/UB-CSE487-prj/.venv/lib/python3.11/site-packages/librosa/core/audio.py:184: FutureWarning: librosa.core.audio.__audioread_load\n",
      "\tDeprecated as of librosa version 0.10.0.\n",
      "\tIt will be removed in librosa version 1.0.\n",
      "  y, sr_native = __audioread_load(path, offset, duration, dtype)\n"
     ]
    },
    {
     "ename": "FileNotFoundError",
     "evalue": "[Errno 2] No such file or directory: 'AudioData/biden-human.wav'",
     "output_type": "error",
     "traceback": [
      "\u001b[31m---------------------------------------------------------------------------\u001b[39m",
      "\u001b[31mLibsndfileError\u001b[39m                           Traceback (most recent call last)",
      "\u001b[36mFile \u001b[39m\u001b[32m~/Desktop/UB-Spring-2025/CSE487/UB-CSE487-prj/.venv/lib/python3.11/site-packages/librosa/core/audio.py:176\u001b[39m, in \u001b[36mload\u001b[39m\u001b[34m(path, sr, mono, offset, duration, dtype, res_type)\u001b[39m\n\u001b[32m    175\u001b[39m \u001b[38;5;28;01mtry\u001b[39;00m:\n\u001b[32m--> \u001b[39m\u001b[32m176\u001b[39m     y, sr_native = \u001b[43m__soundfile_load\u001b[49m\u001b[43m(\u001b[49m\u001b[43mpath\u001b[49m\u001b[43m,\u001b[49m\u001b[43m \u001b[49m\u001b[43moffset\u001b[49m\u001b[43m,\u001b[49m\u001b[43m \u001b[49m\u001b[43mduration\u001b[49m\u001b[43m,\u001b[49m\u001b[43m \u001b[49m\u001b[43mdtype\u001b[49m\u001b[43m)\u001b[49m\n\u001b[32m    178\u001b[39m \u001b[38;5;28;01mexcept\u001b[39;00m sf.SoundFileRuntimeError \u001b[38;5;28;01mas\u001b[39;00m exc:\n\u001b[32m    179\u001b[39m     \u001b[38;5;66;03m# If soundfile failed, try audioread instead\u001b[39;00m\n",
      "\u001b[36mFile \u001b[39m\u001b[32m~/Desktop/UB-Spring-2025/CSE487/UB-CSE487-prj/.venv/lib/python3.11/site-packages/librosa/core/audio.py:209\u001b[39m, in \u001b[36m__soundfile_load\u001b[39m\u001b[34m(path, offset, duration, dtype)\u001b[39m\n\u001b[32m    207\u001b[39m \u001b[38;5;28;01melse\u001b[39;00m:\n\u001b[32m    208\u001b[39m     \u001b[38;5;66;03m# Otherwise, create the soundfile object\u001b[39;00m\n\u001b[32m--> \u001b[39m\u001b[32m209\u001b[39m     context = \u001b[43msf\u001b[49m\u001b[43m.\u001b[49m\u001b[43mSoundFile\u001b[49m\u001b[43m(\u001b[49m\u001b[43mpath\u001b[49m\u001b[43m)\u001b[49m\n\u001b[32m    211\u001b[39m \u001b[38;5;28;01mwith\u001b[39;00m context \u001b[38;5;28;01mas\u001b[39;00m sf_desc:\n",
      "\u001b[36mFile \u001b[39m\u001b[32m~/Desktop/UB-Spring-2025/CSE487/UB-CSE487-prj/.venv/lib/python3.11/site-packages/soundfile.py:690\u001b[39m, in \u001b[36mSoundFile.__init__\u001b[39m\u001b[34m(self, file, mode, samplerate, channels, subtype, endian, format, closefd, compression_level, bitrate_mode)\u001b[39m\n\u001b[32m    688\u001b[39m \u001b[38;5;28mself\u001b[39m._info = _create_info_struct(file, mode, samplerate, channels,\n\u001b[32m    689\u001b[39m                                  \u001b[38;5;28mformat\u001b[39m, subtype, endian)\n\u001b[32m--> \u001b[39m\u001b[32m690\u001b[39m \u001b[38;5;28mself\u001b[39m._file = \u001b[38;5;28;43mself\u001b[39;49m\u001b[43m.\u001b[49m\u001b[43m_open\u001b[49m\u001b[43m(\u001b[49m\u001b[43mfile\u001b[49m\u001b[43m,\u001b[49m\u001b[43m \u001b[49m\u001b[43mmode_int\u001b[49m\u001b[43m,\u001b[49m\u001b[43m \u001b[49m\u001b[43mclosefd\u001b[49m\u001b[43m)\u001b[49m\n\u001b[32m    691\u001b[39m \u001b[38;5;28;01mif\u001b[39;00m \u001b[38;5;28mset\u001b[39m(mode).issuperset(\u001b[33m'\u001b[39m\u001b[33mr+\u001b[39m\u001b[33m'\u001b[39m) \u001b[38;5;129;01mand\u001b[39;00m \u001b[38;5;28mself\u001b[39m.seekable():\n\u001b[32m    692\u001b[39m     \u001b[38;5;66;03m# Move write position to 0 (like in Python file objects)\u001b[39;00m\n",
      "\u001b[36mFile \u001b[39m\u001b[32m~/Desktop/UB-Spring-2025/CSE487/UB-CSE487-prj/.venv/lib/python3.11/site-packages/soundfile.py:1265\u001b[39m, in \u001b[36mSoundFile._open\u001b[39m\u001b[34m(self, file, mode_int, closefd)\u001b[39m\n\u001b[32m   1264\u001b[39m     err = _snd.sf_error(file_ptr)\n\u001b[32m-> \u001b[39m\u001b[32m1265\u001b[39m     \u001b[38;5;28;01mraise\u001b[39;00m LibsndfileError(err, prefix=\u001b[33m\"\u001b[39m\u001b[33mError opening \u001b[39m\u001b[38;5;132;01m{0!r}\u001b[39;00m\u001b[33m: \u001b[39m\u001b[33m\"\u001b[39m.format(\u001b[38;5;28mself\u001b[39m.name))\n\u001b[32m   1266\u001b[39m \u001b[38;5;28;01mif\u001b[39;00m mode_int == _snd.SFM_WRITE:\n\u001b[32m   1267\u001b[39m     \u001b[38;5;66;03m# Due to a bug in libsndfile version <= 1.0.25, frames != 0\u001b[39;00m\n\u001b[32m   1268\u001b[39m     \u001b[38;5;66;03m# when opening a named pipe in SFM_WRITE mode.\u001b[39;00m\n\u001b[32m   1269\u001b[39m     \u001b[38;5;66;03m# See http://github.com/erikd/libsndfile/issues/77.\u001b[39;00m\n",
      "\u001b[31mLibsndfileError\u001b[39m: Error opening 'AudioData/biden-human.wav': System error.",
      "\nDuring handling of the above exception, another exception occurred:\n",
      "\u001b[31mFileNotFoundError\u001b[39m                         Traceback (most recent call last)",
      "\u001b[36mCell\u001b[39m\u001b[36m \u001b[39m\u001b[32mIn[17]\u001b[39m\u001b[32m, line 1\u001b[39m\n\u001b[32m----> \u001b[39m\u001b[32m1\u001b[39m bidenDF = \u001b[43mwavToDataFrame\u001b[49m\u001b[43m(\u001b[49m\u001b[33;43m\"\u001b[39;49m\u001b[33;43mAudioData/biden-human.wav\u001b[39;49m\u001b[33;43m\"\u001b[39;49m\u001b[43m,\u001b[49m\u001b[43m \u001b[49m\u001b[32;43m0\u001b[39;49m\u001b[43m)\u001b[49m\n\u001b[32m      2\u001b[39m bidenToObamaAiDF = wavToDataFrame(\u001b[33m\"\u001b[39m\u001b[33mAudioData/biden-to-obama-ai.wav\u001b[39m\u001b[33m\"\u001b[39m, \u001b[32m1\u001b[39m)\n\u001b[32m      3\u001b[39m linusDF = wavToDataFrame(\u001b[33m\"\u001b[39m\u001b[33mAudioData/linus-human.wav\u001b[39m\u001b[33m\"\u001b[39m, \u001b[32m0\u001b[39m)\n",
      "\u001b[36mCell\u001b[39m\u001b[36m \u001b[39m\u001b[32mIn[16]\u001b[39m\u001b[32m, line 2\u001b[39m, in \u001b[36mwavToDataFrame\u001b[39m\u001b[34m(input, intelligence)\u001b[39m\n\u001b[32m      1\u001b[39m \u001b[38;5;28;01mdef\u001b[39;00m\u001b[38;5;250m \u001b[39m\u001b[34mwavToDataFrame\u001b[39m(\u001b[38;5;28minput\u001b[39m, intelligence):\n\u001b[32m----> \u001b[39m\u001b[32m2\u001b[39m     audioArray, sampleRate = \u001b[43mlibrosa\u001b[49m\u001b[43m.\u001b[49m\u001b[43mload\u001b[49m\u001b[43m(\u001b[49m\u001b[38;5;28;43minput\u001b[39;49m\u001b[43m)\u001b[49m\n\u001b[32m      3\u001b[39m     rdd = spark.sparkContext.parallelize(audioArray)\n\u001b[32m      4\u001b[39m     filteredRdd = sliceAudio(rdd, \u001b[32m10\u001b[39m, sampleRate)\n",
      "\u001b[36mFile \u001b[39m\u001b[32m~/Desktop/UB-Spring-2025/CSE487/UB-CSE487-prj/.venv/lib/python3.11/site-packages/librosa/core/audio.py:184\u001b[39m, in \u001b[36mload\u001b[39m\u001b[34m(path, sr, mono, offset, duration, dtype, res_type)\u001b[39m\n\u001b[32m    180\u001b[39m \u001b[38;5;28;01mif\u001b[39;00m \u001b[38;5;28misinstance\u001b[39m(path, (\u001b[38;5;28mstr\u001b[39m, pathlib.PurePath)):\n\u001b[32m    181\u001b[39m     warnings.warn(\n\u001b[32m    182\u001b[39m         \u001b[33m\"\u001b[39m\u001b[33mPySoundFile failed. Trying audioread instead.\u001b[39m\u001b[33m\"\u001b[39m, stacklevel=\u001b[32m2\u001b[39m\n\u001b[32m    183\u001b[39m     )\n\u001b[32m--> \u001b[39m\u001b[32m184\u001b[39m     y, sr_native = \u001b[43m__audioread_load\u001b[49m\u001b[43m(\u001b[49m\u001b[43mpath\u001b[49m\u001b[43m,\u001b[49m\u001b[43m \u001b[49m\u001b[43moffset\u001b[49m\u001b[43m,\u001b[49m\u001b[43m \u001b[49m\u001b[43mduration\u001b[49m\u001b[43m,\u001b[49m\u001b[43m \u001b[49m\u001b[43mdtype\u001b[49m\u001b[43m)\u001b[49m\n\u001b[32m    185\u001b[39m \u001b[38;5;28;01melse\u001b[39;00m:\n\u001b[32m    186\u001b[39m     \u001b[38;5;28;01mraise\u001b[39;00m exc\n",
      "\u001b[36mFile \u001b[39m\u001b[32m~/Desktop/UB-Spring-2025/CSE487/UB-CSE487-prj/.venv/lib/python3.11/site-packages/decorator.py:235\u001b[39m, in \u001b[36mdecorate.<locals>.fun\u001b[39m\u001b[34m(*args, **kw)\u001b[39m\n\u001b[32m    233\u001b[39m \u001b[38;5;28;01mif\u001b[39;00m \u001b[38;5;129;01mnot\u001b[39;00m kwsyntax:\n\u001b[32m    234\u001b[39m     args, kw = fix(args, kw, sig)\n\u001b[32m--> \u001b[39m\u001b[32m235\u001b[39m \u001b[38;5;28;01mreturn\u001b[39;00m \u001b[43mcaller\u001b[49m\u001b[43m(\u001b[49m\u001b[43mfunc\u001b[49m\u001b[43m,\u001b[49m\u001b[43m \u001b[49m\u001b[43m*\u001b[49m\u001b[43m(\u001b[49m\u001b[43mextras\u001b[49m\u001b[43m \u001b[49m\u001b[43m+\u001b[49m\u001b[43m \u001b[49m\u001b[43margs\u001b[49m\u001b[43m)\u001b[49m\u001b[43m,\u001b[49m\u001b[43m \u001b[49m\u001b[43m*\u001b[49m\u001b[43m*\u001b[49m\u001b[43mkw\u001b[49m\u001b[43m)\u001b[49m\n",
      "\u001b[36mFile \u001b[39m\u001b[32m~/Desktop/UB-Spring-2025/CSE487/UB-CSE487-prj/.venv/lib/python3.11/site-packages/librosa/util/decorators.py:63\u001b[39m, in \u001b[36mdeprecated.<locals>.__wrapper\u001b[39m\u001b[34m(func, *args, **kwargs)\u001b[39m\n\u001b[32m     54\u001b[39m \u001b[38;5;250m\u001b[39m\u001b[33;03m\"\"\"Warn the user, and then proceed.\"\"\"\u001b[39;00m\n\u001b[32m     55\u001b[39m warnings.warn(\n\u001b[32m     56\u001b[39m     \u001b[33m\"\u001b[39m\u001b[38;5;132;01m{:s}\u001b[39;00m\u001b[33m.\u001b[39m\u001b[38;5;132;01m{:s}\u001b[39;00m\u001b[38;5;130;01m\\n\u001b[39;00m\u001b[38;5;130;01m\\t\u001b[39;00m\u001b[33mDeprecated as of librosa version \u001b[39m\u001b[38;5;132;01m{:s}\u001b[39;00m\u001b[33m.\u001b[39m\u001b[33m\"\u001b[39m\n\u001b[32m     57\u001b[39m     \u001b[33m\"\u001b[39m\u001b[38;5;130;01m\\n\u001b[39;00m\u001b[38;5;130;01m\\t\u001b[39;00m\u001b[33mIt will be removed in librosa version \u001b[39m\u001b[38;5;132;01m{:s}\u001b[39;00m\u001b[33m.\u001b[39m\u001b[33m\"\u001b[39m.format(\n\u001b[32m   (...)\u001b[39m\u001b[32m     61\u001b[39m     stacklevel=\u001b[32m3\u001b[39m,  \u001b[38;5;66;03m# Would be 2, but the decorator adds a level\u001b[39;00m\n\u001b[32m     62\u001b[39m )\n\u001b[32m---> \u001b[39m\u001b[32m63\u001b[39m \u001b[38;5;28;01mreturn\u001b[39;00m \u001b[43mfunc\u001b[49m\u001b[43m(\u001b[49m\u001b[43m*\u001b[49m\u001b[43margs\u001b[49m\u001b[43m,\u001b[49m\u001b[43m \u001b[49m\u001b[43m*\u001b[49m\u001b[43m*\u001b[49m\u001b[43mkwargs\u001b[49m\u001b[43m)\u001b[49m\n",
      "\u001b[36mFile \u001b[39m\u001b[32m~/Desktop/UB-Spring-2025/CSE487/UB-CSE487-prj/.venv/lib/python3.11/site-packages/librosa/core/audio.py:240\u001b[39m, in \u001b[36m__audioread_load\u001b[39m\u001b[34m(path, offset, duration, dtype)\u001b[39m\n\u001b[32m    237\u001b[39m     reader = path\n\u001b[32m    238\u001b[39m \u001b[38;5;28;01melse\u001b[39;00m:\n\u001b[32m    239\u001b[39m     \u001b[38;5;66;03m# If the input was not an audioread object, try to open it\u001b[39;00m\n\u001b[32m--> \u001b[39m\u001b[32m240\u001b[39m     reader = \u001b[43maudioread\u001b[49m\u001b[43m.\u001b[49m\u001b[43maudio_open\u001b[49m\u001b[43m(\u001b[49m\u001b[43mpath\u001b[49m\u001b[43m)\u001b[49m\n\u001b[32m    242\u001b[39m \u001b[38;5;28;01mwith\u001b[39;00m reader \u001b[38;5;28;01mas\u001b[39;00m input_file:\n\u001b[32m    243\u001b[39m     sr_native = input_file.samplerate\n",
      "\u001b[36mFile \u001b[39m\u001b[32m~/Desktop/UB-Spring-2025/CSE487/UB-CSE487-prj/.venv/lib/python3.11/site-packages/audioread/__init__.py:127\u001b[39m, in \u001b[36maudio_open\u001b[39m\u001b[34m(path, backends)\u001b[39m\n\u001b[32m    125\u001b[39m \u001b[38;5;28;01mfor\u001b[39;00m BackendClass \u001b[38;5;129;01min\u001b[39;00m backends:\n\u001b[32m    126\u001b[39m     \u001b[38;5;28;01mtry\u001b[39;00m:\n\u001b[32m--> \u001b[39m\u001b[32m127\u001b[39m         \u001b[38;5;28;01mreturn\u001b[39;00m \u001b[43mBackendClass\u001b[49m\u001b[43m(\u001b[49m\u001b[43mpath\u001b[49m\u001b[43m)\u001b[49m\n\u001b[32m    128\u001b[39m     \u001b[38;5;28;01mexcept\u001b[39;00m DecodeError:\n\u001b[32m    129\u001b[39m         \u001b[38;5;28;01mpass\u001b[39;00m\n",
      "\u001b[36mFile \u001b[39m\u001b[32m~/Desktop/UB-Spring-2025/CSE487/UB-CSE487-prj/.venv/lib/python3.11/site-packages/audioread/rawread.py:59\u001b[39m, in \u001b[36mRawAudioFile.__init__\u001b[39m\u001b[34m(self, filename)\u001b[39m\n\u001b[32m     58\u001b[39m \u001b[38;5;28;01mdef\u001b[39;00m\u001b[38;5;250m \u001b[39m\u001b[34m__init__\u001b[39m(\u001b[38;5;28mself\u001b[39m, filename):\n\u001b[32m---> \u001b[39m\u001b[32m59\u001b[39m     \u001b[38;5;28mself\u001b[39m._fh = \u001b[38;5;28;43mopen\u001b[39;49m\u001b[43m(\u001b[49m\u001b[43mfilename\u001b[49m\u001b[43m,\u001b[49m\u001b[43m \u001b[49m\u001b[33;43m'\u001b[39;49m\u001b[33;43mrb\u001b[39;49m\u001b[33;43m'\u001b[39;49m\u001b[43m)\u001b[49m\n\u001b[32m     61\u001b[39m     \u001b[38;5;28;01mtry\u001b[39;00m:\n\u001b[32m     62\u001b[39m         \u001b[38;5;28mself\u001b[39m._file = aifc.open(\u001b[38;5;28mself\u001b[39m._fh)\n",
      "\u001b[31mFileNotFoundError\u001b[39m: [Errno 2] No such file or directory: 'AudioData/biden-human.wav'"
     ]
    },
    {
     "name": "stderr",
     "output_type": "stream",
     "text": [
      "25/04/11 12:21:28 WARN GarbageCollectionMetrics: To enable non-built-in garbage collector(s) List(G1 Concurrent GC), users should configure it(them) to spark.eventLog.gcMetrics.youngGenerationGarbageCollectors or spark.eventLog.gcMetrics.oldGenerationGarbageCollectors\n"
     ]
    }
   ],
   "source": [
    "bidenDF = wavToDataFrame(\"AudioData/biden-human.wav\", 0)\n",
    "bidenToObamaAiDF = wavToDataFrame(\"AudioData/biden-to-obama-ai.wav\", 1)\n",
    "linusDF = wavToDataFrame(\"AudioData/linus-human.wav\", 0)\n",
    "linusToRyanAiDF = wavToDataFrame(\"AudioData/linus-to-ryan-ai.wav\", 1)\n",
    "linusToBidenAiDF = wavToDataFrame(\"AudioData/linus-to-biden-ai.wav\", 1)\n",
    "obamaDF = wavToDataFrame(\"AudioData/obama-human.wav\", 0)\n",
    "obamaToLinusAiDF= wavToDataFrame(\"AudioData/obama-to-linus-ai.wav\", 1)\n",
    "trumpDF = wavToDataFrame(\"AudioData/trump-human.wav\", 0)\n",
    "trumpToTaylorAiDF = wavToDataFrame(\"AudioData/trump-to-taylor-ai.wav\", 1)\n",
    "margotDF = wavToDataFrame(\"AudioData/margot-human.wav\", 0)\n",
    "margotToTrumpAiDF = wavToDataFrame(\"AudioData/margot-to-trump-ai.wav\", 1)\n",
    "taylorDF = wavToDataFrame(\"AudioData/taylor-human.wav\", 0)\n",
    "taylorToMargotAiDF = wavToDataFrame(\"AudioData/taylor-to-margot-ai.wav\", 1)\n",
    "\n",
    "combinedDf = bidenDF.union(bidenToObamaAiDF).union(linusDF).union(\n",
    "    linusToRyanAiDF).union(linusToBidenAiDF).union(obamaDF).union(\n",
    "    obamaToLinusAiDF).union(trumpDF).union(trumpToTaylorAiDF).union(\n",
    "    margotDF).union(margotToTrumpAiDF).union(taylorDF).union(taylorToMargotAiDF)"
   ]
  }
 ],
 "metadata": {
  "kernelspec": {
   "display_name": ".venv",
   "language": "python",
   "name": "python3"
  },
  "language_info": {
   "codemirror_mode": {
    "name": "ipython",
    "version": 3
   },
   "file_extension": ".py",
   "mimetype": "text/x-python",
   "name": "python",
   "nbconvert_exporter": "python",
   "pygments_lexer": "ipython3",
   "version": "3.11.2"
  }
 },
 "nbformat": 4,
 "nbformat_minor": 5
}
