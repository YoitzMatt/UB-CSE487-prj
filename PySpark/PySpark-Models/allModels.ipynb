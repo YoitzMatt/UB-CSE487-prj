{
  "cells": [
    {
      "cell_type": "code",
      "execution_count": 1,
      "metadata": {
        "id": "g5REvbMK7dUl"
      },
      "outputs": [],
      "source": [
        "import pyspark\n",
        "from pyspark.sql import SparkSession\n",
        "from pyspark.ml.feature import VectorAssembler\n",
        "from pyspark.sql.functions import udf\n",
        "from pyspark.sql.types import IntegerType, StructType, StructField, StringType\n",
        "from pyspark.ml.classification import LinearSVC\n",
        "from pyspark.ml.evaluation import MulticlassClassificationEvaluator\n",
        "from pyspark.ml.classification import LogisticRegression\n",
        "from pyspark.ml.classification import RandomForestClassifier\n",
        "from pyspark.ml.classification import GBTClassifier\n",
        "from pyspark.ml.classification import NaiveBayes"
      ]
    },
    {
      "cell_type": "code",
      "execution_count": 3,
      "metadata": {
        "colab": {
          "base_uri": "https://localhost:8080/",
          "height": 222
        },
        "id": "Um_0rffL7ndS",
        "outputId": "627ec7b8-0eff-4c14-fc61-dec58b807dd4"
      },
      "outputs": [
        {
          "data": {
            "text/html": [
              "\n",
              "            <div>\n",
              "                <p><b>SparkSession - in-memory</b></p>\n",
              "                \n",
              "        <div>\n",
              "            <p><b>SparkContext</b></p>\n",
              "\n",
              "            <p><a href=\"http://a64be0853256:4040\">Spark UI</a></p>\n",
              "\n",
              "            <dl>\n",
              "              <dt>Version</dt>\n",
              "                <dd><code>v3.5.5</code></dd>\n",
              "              <dt>Master</dt>\n",
              "                <dd><code>local[*]</code></dd>\n",
              "              <dt>AppName</dt>\n",
              "                <dd><code>SparkML</code></dd>\n",
              "            </dl>\n",
              "        </div>\n",
              "        \n",
              "            </div>\n",
              "        "
            ],
            "text/plain": [
              "<pyspark.sql.session.SparkSession at 0x7f4a0ddcebd0>"
            ]
          },
          "execution_count": 3,
          "metadata": {},
          "output_type": "execute_result"
        }
      ],
      "source": [
        "spark = SparkSession.builder.master(\"local[*]\").appName(\"SparkML\").getOrCreate()\n",
        "spark"
      ]
    },
    {
      "cell_type": "code",
      "execution_count": 4,
      "metadata": {
        "id": "rH2_ZukO9mZB"
      },
      "outputs": [],
      "source": [
        "dfSpark = spark.read.csv(\"/content/drive/MyDrive/rddPreprocessed\", header=True, inferSchema=True)"
      ]
    },
    {
      "cell_type": "code",
      "execution_count": 5,
      "metadata": {
        "colab": {
          "base_uri": "https://localhost:8080/"
        },
        "id": "qWbhEsI1pvkA",
        "outputId": "cd74f37e-c1da-46d7-867a-4b8399ca0627"
      },
      "outputs": [
        {
          "name": "stdout",
          "output_type": "stream",
          "text": [
            "+--------------------+------------+\n",
            "|          mlFeatures|intelligence|\n",
            "+--------------------+------------+\n",
            "|[0.32208684,0.367...|           0|\n",
            "|[0.3193533,0.4034...|           0|\n",
            "|[0.30920026,0.350...|           0|\n",
            "|[0.30920026,0.364...|           0|\n",
            "|[0.31380817,0.452...|           0|\n",
            "+--------------------+------------+\n",
            "only showing top 5 rows\n",
            "\n"
          ]
        }
      ],
      "source": [
        "csvCols = dfSpark.columns\n",
        "csvCols.remove('intelligence')\n",
        "featureAssembler = VectorAssembler(inputCols=csvCols, outputCol=\"mlFeatures\")\n",
        "vaOutput = featureAssembler.transform(dfSpark)\n",
        "finalizeData = vaOutput.select(\"mlFeatures\", \"intelligence\")\n",
        "finalizeData = finalizeData.dropna()\n",
        "trainData, testData = finalizeData.randomSplit([0.80, 0.20])\n",
        "finalizeData.show(5)"
      ]
    },
    {
      "cell_type": "code",
      "execution_count": 6,
      "metadata": {
        "colab": {
          "base_uri": "https://localhost:8080/"
        },
        "id": "bwzw4PPhu0Zv",
        "outputId": "34173538-3664-4696-b8a1-47bf9b9bc85a"
      },
      "outputs": [
        {
          "data": {
            "text/plain": [
              "0.7079796264855688"
            ]
          },
          "execution_count": 6,
          "metadata": {},
          "output_type": "execute_result"
        }
      ],
      "source": [
        "spark.sparkContext.setJobGroup(\"LinearSVC\", \"Initialize and train LinearSVC Model\")\n",
        "svm = LinearSVC(featuresCol=\"mlFeatures\", labelCol=\"intelligence\", regParam=0.01)\n",
        "svmModel = svm.fit(trainData)\n",
        "predictions = svmModel.evaluate(testData)\n",
        "predictions.accuracy"
      ]
    },
    {
      "cell_type": "code",
      "execution_count": 7,
      "metadata": {
        "colab": {
          "base_uri": "https://localhost:8080/"
        },
        "id": "z6LHMwB44s1j",
        "outputId": "40b00301-b339-496b-f98b-4ec1925682f1"
      },
      "outputs": [
        {
          "data": {
            "text/plain": [
              "0.6884550084889643"
            ]
          },
          "execution_count": 7,
          "metadata": {},
          "output_type": "execute_result"
        }
      ],
      "source": [
        "spark.sparkContext.setJobGroup(\"LogisticRegression\", \"Initialize and train LogisticRegression Model\")\n",
        "lrModel = LogisticRegression(featuresCol=\"mlFeatures\", labelCol=\"intelligence\", regParam=0.01)\n",
        "lrModel = lrModel.fit(trainData)\n",
        "predictions = lrModel.evaluate(testData)\n",
        "predictions.accuracy"
      ]
    },
    {
      "cell_type": "code",
      "execution_count": 8,
      "metadata": {
        "colab": {
          "base_uri": "https://localhost:8080/"
        },
        "id": "MTH0cxzC78Gp",
        "outputId": "94291290-195f-4fa3-c5b0-ade94f0af56d"
      },
      "outputs": [
        {
          "data": {
            "text/plain": [
              "0.8786078098471987"
            ]
          },
          "execution_count": 8,
          "metadata": {},
          "output_type": "execute_result"
        }
      ],
      "source": [
        "spark.sparkContext.setJobGroup(\"RandomForestClassifier\", \"Initialize and train RandomForestClassifier Model\")\n",
        "rfClassifier = RandomForestClassifier(\n",
        "    featuresCol=\"mlFeatures\", labelCol=\"intelligence\",\n",
        "    numTrees=20, maxDepth=10\n",
        ")\n",
        "rfClassifier = rfClassifier.fit(trainData)\n",
        "predictions = rfClassifier.evaluate(testData)\n",
        "predictions.accuracy"
      ]
    },
    {
      "cell_type": "code",
      "execution_count": 9,
      "metadata": {
        "colab": {
          "base_uri": "https://localhost:8080/"
        },
        "id": "u4Xp3b4JPHYJ",
        "outputId": "a4b4a6f9-7b0f-42ce-d69a-06fcc4c5c5cf"
      },
      "outputs": [
        {
          "data": {
            "text/plain": [
              "0.8505942275042445"
            ]
          },
          "execution_count": 9,
          "metadata": {},
          "output_type": "execute_result"
        }
      ],
      "source": [
        "spark.sparkContext.setJobGroup(\"GBTClassifier\", \"Initialize and train GBTClassifier Model\")\n",
        "gbtClassifier = GBTClassifier(featuresCol='mlFeatures', labelCol='intelligence',\n",
        "                                 stepSize=0.1, maxIter=50, maxDepth=4)\n",
        "gbtClassifier = gbtClassifier.fit(trainData)\n",
        "predictions = gbtClassifier.transform(testData)\n",
        "evaluator = MulticlassClassificationEvaluator(labelCol=\"intelligence\", predictionCol=\"prediction\", metricName=\"accuracy\")\n",
        "evaluator.evaluate(predictions)"
      ]
    },
    {
      "cell_type": "code",
      "execution_count": 10,
      "metadata": {
        "colab": {
          "base_uri": "https://localhost:8080/"
        },
        "id": "OXEQCPpjR_Jb",
        "outputId": "930abd35-0035-42e6-c0eb-cdd2cc2a3080"
      },
      "outputs": [
        {
          "data": {
            "text/plain": [
              "0.6570458404074703"
            ]
          },
          "execution_count": 10,
          "metadata": {},
          "output_type": "execute_result"
        }
      ],
      "source": [
        "spark.sparkContext.setJobGroup(\"NaiveBayes\", \"Initialize and train NaiveBayes Model\")\n",
        "nbModel = NaiveBayes(featuresCol=\"mlFeatures\", labelCol=\"intelligence\", modelType=\"gaussian\")\n",
        "nbTransformer = nbModel.fit(trainData)\n",
        "predictions = nbTransformer.transform(testData)\n",
        "evaluator = MulticlassClassificationEvaluator(labelCol=\"intelligence\", predictionCol=\"prediction\", metricName=\"accuracy\")\n",
        "evaluator.evaluate(predictions)"
      ]
    }
  ],
  "metadata": {
    "colab": {
      "provenance": []
    },
    "kernelspec": {
      "display_name": "Python 3",
      "name": "python3"
    },
    "language_info": {
      "name": "python"
    }
  },
  "nbformat": 4,
  "nbformat_minor": 0
}
