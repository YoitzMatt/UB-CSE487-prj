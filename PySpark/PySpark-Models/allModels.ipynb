{
  "cells": [
    {
      "cell_type": "code",
      "execution_count": 1,
      "metadata": {
        "id": "g5REvbMK7dUl"
      },
      "outputs": [],
      "source": [
        "import pyspark\n",
        "from pyspark.sql import SparkSession\n",
        "from pyspark.ml.feature import VectorAssembler\n",
        "from pyspark.sql.functions import udf\n",
        "from pyspark.sql.types import IntegerType, StructType, StructField, StringType\n",
        "from pyspark.ml.classification import LinearSVC\n",
        "from pyspark.ml.evaluation import MulticlassClassificationEvaluator\n",
        "from pyspark.ml.classification import LogisticRegression\n",
        "from pyspark.ml.classification import RandomForestClassifier\n",
        "from pyspark.ml.classification import GBTClassifier\n",
        "from pyspark.ml.classification import NaiveBayes\n",
        "from pyspark.ml.tuning import CrossValidator, ParamGridBuilder, CrossValidatorModel"
      ]
    },
    {
      "cell_type": "code",
      "execution_count": 2,
      "metadata": {
        "colab": {
          "base_uri": "https://localhost:8080/",
          "height": 222
        },
        "id": "Um_0rffL7ndS",
        "outputId": "3da44ef4-4d02-41db-e3a0-27bbad1eb1be"
      },
      "outputs": [
        {
          "data": {
            "text/html": [
              "\n",
              "            <div>\n",
              "                <p><b>SparkSession - in-memory</b></p>\n",
              "                \n",
              "        <div>\n",
              "            <p><b>SparkContext</b></p>\n",
              "\n",
              "            <p><a href=\"http://30c3484a7d7c:4040\">Spark UI</a></p>\n",
              "\n",
              "            <dl>\n",
              "              <dt>Version</dt>\n",
              "                <dd><code>v3.5.5</code></dd>\n",
              "              <dt>Master</dt>\n",
              "                <dd><code>local[*]</code></dd>\n",
              "              <dt>AppName</dt>\n",
              "                <dd><code>SparkML</code></dd>\n",
              "            </dl>\n",
              "        </div>\n",
              "        \n",
              "            </div>\n",
              "        "
            ],
            "text/plain": [
              "<pyspark.sql.session.SparkSession at 0x796346ef0b10>"
            ]
          },
          "execution_count": 2,
          "metadata": {},
          "output_type": "execute_result"
        }
      ],
      "source": [
        "spark = SparkSession.builder.master(\"local[*]\").appName(\"SparkML\").getOrCreate()\n",
        "spark"
      ]
    },
    {
      "cell_type": "code",
      "execution_count": 3,
      "metadata": {
        "id": "rH2_ZukO9mZB"
      },
      "outputs": [],
      "source": [
        "dfSpark = spark.read.csv(\"/content/drive/MyDrive/rddPreprocessed\", header=True, inferSchema=True)"
      ]
    },
    {
      "cell_type": "code",
      "execution_count": 4,
      "metadata": {
        "colab": {
          "base_uri": "https://localhost:8080/"
        },
        "id": "qWbhEsI1pvkA",
        "outputId": "a2423038-09ea-454b-e20a-9c2300b0558d"
      },
      "outputs": [
        {
          "name": "stdout",
          "output_type": "stream",
          "text": [
            "+--------------------+------------+\n",
            "|          mlFeatures|intelligence|\n",
            "+--------------------+------------+\n",
            "|[0.32208684,0.367...|           0|\n",
            "|[0.3193533,0.4034...|           0|\n",
            "|[0.30920026,0.350...|           0|\n",
            "|[0.30920026,0.364...|           0|\n",
            "|[0.31380817,0.452...|           0|\n",
            "+--------------------+------------+\n",
            "only showing top 5 rows\n",
            "\n"
          ]
        }
      ],
      "source": [
        "csvCols = dfSpark.columns\n",
        "csvCols.remove('intelligence')\n",
        "featureAssembler = VectorAssembler(inputCols=csvCols, outputCol=\"mlFeatures\")\n",
        "vaOutput = featureAssembler.transform(dfSpark)\n",
        "finalizeData = vaOutput.select(\"mlFeatures\", \"intelligence\")\n",
        "finalizeData = finalizeData.dropna()\n",
        "trainData, testData = finalizeData.randomSplit([0.80, 0.20])\n",
        "finalizeData.show(5)"
      ]
    },
    {
      "cell_type": "code",
      "execution_count": 6,
      "metadata": {
        "colab": {
          "base_uri": "https://localhost:8080/"
        },
        "id": "bwzw4PPhu0Zv",
        "outputId": "4494e7b8-b713-4ddd-9fb3-ab208d0972a2"
      },
      "outputs": [
        {
          "name": "stdout",
          "output_type": "stream",
          "text": [
            "Accuracy: 0.7248628884826326\n",
            "f1: 0.7232240691651781\n",
            "Precision: 0.7245396221535223\n",
            "Recall: 0.7248628884826325\n"
          ]
        }
      ],
      "source": [
        "#Linear SVC\n",
        "spark.sparkContext.setJobGroup(\"LinearSVC\", \"Initialize and train LinearSVC Model\")\n",
        "svmModel = LinearSVC(featuresCol=\"mlFeatures\", labelCol=\"intelligence\", regParam=0.01)\n",
        "accuracyEval = MulticlassClassificationEvaluator(labelCol=\"intelligence\", predictionCol=\"prediction\", metricName=\"accuracy\")\n",
        "f1Eval = MulticlassClassificationEvaluator(labelCol=\"intelligence\", predictionCol=\"prediction\", metricName=\"f1\")\n",
        "precisionEval = MulticlassClassificationEvaluator(labelCol=\"intelligence\", predictionCol=\"prediction\", metricName=\"weightedPrecision\")\n",
        "recallEval = MulticlassClassificationEvaluator(labelCol=\"intelligence\", predictionCol=\"prediction\", metricName=\"weightedRecall\")\n",
        "\n",
        "svmModel = svmModel.fit(trainData)\n",
        "predictions = svmModel.transform(testData)\n",
        "print(\"Accuracy: \" + str(accuracyEval.evaluate(predictions)))\n",
        "print(\"f1: \" + str(f1Eval.evaluate(predictions)))\n",
        "print(\"Precision: \" + str(precisionEval.evaluate(predictions)))\n",
        "print(\"Recall: \" + str(recallEval.evaluate(predictions)))"
      ]
    },
    {
      "cell_type": "code",
      "execution_count": 7,
      "metadata": {
        "colab": {
          "base_uri": "https://localhost:8080/"
        },
        "id": "z6LHMwB44s1j",
        "outputId": "f37083dc-897d-4b39-d4be-24c5f9cec727"
      },
      "outputs": [
        {
          "name": "stdout",
          "output_type": "stream",
          "text": [
            "Accuracy: 0.7120658135283364\n",
            "f1: 0.7111966799418006\n",
            "Precision: 0.7113361514010925\n",
            "Recall: 0.7120658135283364\n"
          ]
        }
      ],
      "source": [
        "#Logistic Regressor\n",
        "spark.sparkContext.setJobGroup(\"LogisticRegression\", \"Initialize and train LogisticRegression Model\")\n",
        "lrModel = LogisticRegression(featuresCol=\"mlFeatures\", labelCol=\"intelligence\", regParam=0.01)\n",
        "accuracyEval = MulticlassClassificationEvaluator(labelCol=\"intelligence\", predictionCol=\"prediction\", metricName=\"accuracy\")\n",
        "f1Eval = MulticlassClassificationEvaluator(labelCol=\"intelligence\", predictionCol=\"prediction\", metricName=\"f1\")\n",
        "precisionEval = MulticlassClassificationEvaluator(labelCol=\"intelligence\", predictionCol=\"prediction\", metricName=\"weightedPrecision\")\n",
        "recallEval = MulticlassClassificationEvaluator(labelCol=\"intelligence\", predictionCol=\"prediction\", metricName=\"weightedRecall\")\n",
        "\n",
        "lrModel = lrModel.fit(trainData)\n",
        "predictions = lrModel.transform(testData)\n",
        "print(\"Accuracy: \" + str(accuracyEval.evaluate(predictions)))\n",
        "print(\"f1: \" + str(f1Eval.evaluate(predictions)))\n",
        "print(\"Precision: \" + str(precisionEval.evaluate(predictions)))\n",
        "print(\"Recall: \" + str(recallEval.evaluate(predictions)))"
      ]
    },
    {
      "cell_type": "code",
      "execution_count": 8,
      "metadata": {
        "colab": {
          "base_uri": "https://localhost:8080/"
        },
        "id": "MTH0cxzC78Gp",
        "outputId": "2563d1dd-a847-4b4e-957b-e4eaaf704b53"
      },
      "outputs": [
        {
          "name": "stdout",
          "output_type": "stream",
          "text": [
            "Accuracy: 0.8976234003656307\n",
            "f1: 0.8970956070770195\n",
            "Precision: 0.8995416897536028\n",
            "Recall: 0.8976234003656307\n"
          ]
        }
      ],
      "source": [
        "#RF Classifier\n",
        "spark.sparkContext.setJobGroup(\"RandomForestClassifier\", \"Initialize and train RandomForestClassifier Model\")\n",
        "rfClassifier = RandomForestClassifier(\n",
        "    featuresCol=\"mlFeatures\", labelCol=\"intelligence\",\n",
        "    numTrees=20, maxDepth=10)\n",
        "accuracyEval = MulticlassClassificationEvaluator(labelCol=\"intelligence\", predictionCol=\"prediction\", metricName=\"accuracy\")\n",
        "f1Eval = MulticlassClassificationEvaluator(labelCol=\"intelligence\", predictionCol=\"prediction\", metricName=\"f1\")\n",
        "precisionEval = MulticlassClassificationEvaluator(labelCol=\"intelligence\", predictionCol=\"prediction\", metricName=\"weightedPrecision\")\n",
        "recallEval = MulticlassClassificationEvaluator(labelCol=\"intelligence\", predictionCol=\"prediction\", metricName=\"weightedRecall\")\n",
        "\n",
        "rfClassifier = rfClassifier.fit(trainData)\n",
        "predictions = rfClassifier.transform(testData)\n",
        "print(\"Accuracy: \" + str(accuracyEval.evaluate(predictions)))\n",
        "print(\"f1: \" + str(f1Eval.evaluate(predictions)))\n",
        "print(\"Precision: \" + str(precisionEval.evaluate(predictions)))\n",
        "print(\"Recall: \" + str(recallEval.evaluate(predictions)))"
      ]
    },
    {
      "cell_type": "code",
      "execution_count": 9,
      "metadata": {
        "colab": {
          "base_uri": "https://localhost:8080/"
        },
        "id": "u4Xp3b4JPHYJ",
        "outputId": "a1926f66-a849-47e6-8b5f-a2e3c38e7dd3"
      },
      "outputs": [
        {
          "name": "stdout",
          "output_type": "stream",
          "text": [
            "Accuracy: 0.8711151736745887\n",
            "f1: 0.8704305330639253\n",
            "Precision: 0.8727623793669059\n",
            "Recall: 0.8711151736745887\n"
          ]
        }
      ],
      "source": [
        "# GBT Classifier\n",
        "spark.sparkContext.setJobGroup(\"GBTClassifier\", \"Initialize and train GBTClassifier Model\")\n",
        "gbtClassifier = GBTClassifier(featuresCol='mlFeatures', labelCol='intelligence',\n",
        "                                 stepSize=0.1, maxIter=50, maxDepth=4)\n",
        "accuracyEval = MulticlassClassificationEvaluator(labelCol=\"intelligence\", predictionCol=\"prediction\", metricName=\"accuracy\")\n",
        "f1Eval = MulticlassClassificationEvaluator(labelCol=\"intelligence\", predictionCol=\"prediction\", metricName=\"f1\")\n",
        "precisionEval = MulticlassClassificationEvaluator(labelCol=\"intelligence\", predictionCol=\"prediction\", metricName=\"weightedPrecision\")\n",
        "recallEval = MulticlassClassificationEvaluator(labelCol=\"intelligence\", predictionCol=\"prediction\", metricName=\"weightedRecall\")\n",
        "\n",
        "gbtClassifier = gbtClassifier.fit(trainData)\n",
        "predictions = gbtClassifier.transform(testData)\n",
        "print(\"Accuracy: \" + str(accuracyEval.evaluate(predictions)))\n",
        "print(\"f1: \" + str(f1Eval.evaluate(predictions)))\n",
        "print(\"Precision: \" + str(precisionEval.evaluate(predictions)))\n",
        "print(\"Recall: \" + str(recallEval.evaluate(predictions)))"
      ]
    },
    {
      "cell_type": "code",
      "execution_count": 10,
      "metadata": {
        "colab": {
          "base_uri": "https://localhost:8080/"
        },
        "id": "OXEQCPpjR_Jb",
        "outputId": "7f42a07f-2a4d-402d-9426-e96d49d8eaff"
      },
      "outputs": [
        {
          "name": "stdout",
          "output_type": "stream",
          "text": [
            "Accuracy: 0.6252285191956124\n",
            "f1: 0.6236559356851701\n",
            "Precision: 0.6406645156384818\n",
            "Recall: 0.6252285191956124\n"
          ]
        }
      ],
      "source": [
        "# Naive Bayes\n",
        "spark.sparkContext.setJobGroup(\"NaiveBayes\", \"Initialize and train NaiveBayes Model\")\n",
        "nbModel = NaiveBayes(featuresCol=\"mlFeatures\", labelCol=\"intelligence\", modelType=\"gaussian\")\n",
        "accuracyEval = MulticlassClassificationEvaluator(labelCol=\"intelligence\", predictionCol=\"prediction\", metricName=\"accuracy\")\n",
        "f1Eval = MulticlassClassificationEvaluator(labelCol=\"intelligence\", predictionCol=\"prediction\", metricName=\"f1\")\n",
        "precisionEval = MulticlassClassificationEvaluator(labelCol=\"intelligence\", predictionCol=\"prediction\", metricName=\"weightedPrecision\")\n",
        "recallEval = MulticlassClassificationEvaluator(labelCol=\"intelligence\", predictionCol=\"prediction\", metricName=\"weightedRecall\")\n",
        "\n",
        "nbModel = nbModel.fit(trainData)\n",
        "predictions = nbModel.transform(testData)\n",
        "print(\"Accuracy: \" + str(accuracyEval.evaluate(predictions)))\n",
        "print(\"f1: \" + str(f1Eval.evaluate(predictions)))\n",
        "print(\"Precision: \" + str(precisionEval.evaluate(predictions)))\n",
        "print(\"Recall: \" + str(recallEval.evaluate(predictions)))"
      ]
    }
  ],
  "metadata": {
    "colab": {
      "provenance": []
    },
    "kernelspec": {
      "display_name": "Python 3",
      "name": "python3"
    },
    "language_info": {
      "name": "python"
    }
  },
  "nbformat": 4,
  "nbformat_minor": 0
}
